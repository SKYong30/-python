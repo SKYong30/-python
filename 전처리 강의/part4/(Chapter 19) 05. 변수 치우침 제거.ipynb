{
 "cells": [
  {
   "cell_type": "code",
   "execution_count": 1,
   "metadata": {},
   "outputs": [],
   "source": [
    "# 데이터 경로 설정 및 데이터 불러오기\n",
    "import os\n",
    "os.chdir(r\"D:\\강의 자료\\2008_온라인 강의 머신러닝 성능 향상을 위한 데이터 탐색과 전처리 심화\\데이터\\실습 데이터\")\n",
    "\n",
    "import pandas as pd\n",
    "df = pd.read_csv(\"Sonar_Mines_Rocks.csv\")"
   ]
  },
  {
   "cell_type": "code",
   "execution_count": 2,
   "metadata": {},
   "outputs": [],
   "source": [
    "# 특징과 라벨 분리\n",
    "X = df.drop('Y', axis = 1)\n",
    "Y = df['Y']"
   ]
  },
  {
   "cell_type": "code",
   "execution_count": 3,
   "metadata": {},
   "outputs": [],
   "source": [
    "# 학습 데이터와 평가 데이터로 분리\n",
    "from sklearn.model_selection import train_test_split\n",
    "Train_X, Test_X, Train_Y, Test_Y = train_test_split(X, Y)"
   ]
  },
  {
   "cell_type": "code",
   "execution_count": 4,
   "metadata": {},
   "outputs": [
    {
     "data": {
      "text/plain": [
       "Band1     2.194642\n",
       "Band2     2.409443\n",
       "Band3     2.805095\n",
       "Band4     3.609909\n",
       "Band5     2.144178\n",
       "Band6     1.177170\n",
       "Band7     1.121557\n",
       "Band8     1.649454\n",
       "Band9     1.702358\n",
       "Band10    1.209018\n",
       "Band11    0.918190\n",
       "Band12    0.632291\n",
       "Band13    0.765334\n",
       "Band14    1.081876\n",
       "Band15    0.757306\n",
       "Band16    0.721870\n",
       "Band17    0.621809\n",
       "Band18    0.453891\n",
       "Band19    0.237074\n",
       "Band20   -0.125714\n",
       "Band21   -0.244635\n",
       "Band22   -0.403430\n",
       "Band23   -0.599557\n",
       "Band24   -0.652765\n",
       "Band25   -0.792215\n",
       "Band26   -0.714548\n",
       "Band27   -0.577352\n",
       "Band28   -0.545941\n",
       "Band29   -0.403646\n",
       "Band30   -0.102859\n",
       "Band31    0.266565\n",
       "Band32    0.271633\n",
       "Band33    0.390985\n",
       "Band34    0.578128\n",
       "Band35    0.553767\n",
       "Band36    0.613149\n",
       "Band37    0.693637\n",
       "Band38    1.021794\n",
       "Band39    0.898136\n",
       "Band40    0.917089\n",
       "Band41    0.978921\n",
       "Band42    0.893498\n",
       "Band43    0.970370\n",
       "Band44    1.327613\n",
       "Band45    1.415697\n",
       "Band46    1.767197\n",
       "Band47    1.988334\n",
       "Band48    1.372863\n",
       "Band49    1.337429\n",
       "Band50    1.954509\n",
       "Band51    2.893727\n",
       "Band52    2.667888\n",
       "Band53    0.967809\n",
       "Band54    1.164422\n",
       "Band55    1.938697\n",
       "Band56    1.973950\n",
       "Band57    1.745326\n",
       "Band58    2.160692\n",
       "Band59    1.823793\n",
       "Band60    2.992198\n",
       "dtype: float64"
      ]
     },
     "execution_count": 4,
     "metadata": {},
     "output_type": "execute_result"
    }
   ],
   "source": [
    "Train_X.skew() # 왜도 확인 => Band4의 왜도가 가장 큼 => 어떻게 생겼는지 확인해보자"
   ]
  },
  {
   "cell_type": "code",
   "execution_count": 5,
   "metadata": {},
   "outputs": [
    {
     "data": {
      "text/plain": [
       "<matplotlib.axes._subplots.AxesSubplot at 0x1deb5572b00>"
      ]
     },
     "execution_count": 5,
     "metadata": {},
     "output_type": "execute_result"
    },
    {
     "data": {
      "image/png": "[encoded data removed]",
      "text/plain": [
       "<Figure size 432x288 with 1 Axes>"
      ]
     },
     "metadata": {
      "needs_background": "light"
     },
     "output_type": "display_data"
    }
   ],
   "source": [
    "%matplotlib inline\n",
    "df['Band4'].hist()"
   ]
  },
  {
   "cell_type": "markdown",
   "metadata": {},
   "source": [
    "#### 치우침을 제거했을 때의 성능 비교를 위한 모델 개발"
   ]
  },
  {
   "cell_type": "code",
   "execution_count": 6,
   "metadata": {},
   "outputs": [],
   "source": [
    "# 라벨 숫자로 바꾸기\n",
    "Train_Y.replace({\"M\":-1, \"R\":1}, inplace = True)\n",
    "Test_Y.replace({\"M\":-1, \"R\":1}, inplace = True)"
   ]
  },
  {
   "cell_type": "code",
   "execution_count": 7,
   "metadata": {},
   "outputs": [
    {
     "name": "stdout",
     "output_type": "stream",
     "text": [
      "0.8484848484848485\n"
     ]
    }
   ],
   "source": [
    "# 원본 데이터로 모델링\n",
    "from sklearn.metrics import f1_score\n",
    "from sklearn.neural_network import MLPClassifier as MLP\n",
    "model = MLP(random_state = 153, max_iter = 1000).fit(Train_X, Train_Y)\n",
    "pred_Y = model.predict(Test_X)\n",
    "score = f1_score(Test_Y, pred_Y)\n",
    "print(score)"
   ]
  },
  {
   "cell_type": "code",
   "execution_count": 8,
   "metadata": {},
   "outputs": [],
   "source": [
    "# 왜도 기반 치우친 변수 제거 \n",
    "import numpy as np\n",
    "biased_variables = Train_X.columns[Train_X.skew().abs() > 1.5] # 왜도의 절대값이 1.5 이상인 컬럼만 가져오기"
   ]
  },
  {
   "cell_type": "code",
   "execution_count": 9,
   "metadata": {},
   "outputs": [
    {
     "name": "stderr",
     "output_type": "stream",
     "text": [
      "C:\\Users\\GilseungAhn\\AppData\\Roaming\\Python\\Python36\\site-packages\\pandas\\core\\frame.py:2963: SettingWithCopyWarning: \n",
      "A value is trying to be set on a copy of a slice from a DataFrame.\n",
      "Try using .loc[row_indexer,col_indexer] = value instead\n",
      "\n",
      "See the caveats in the documentation: https://pandas.pydata.org/pandas-docs/stable/user_guide/indexing.html#returning-a-view-versus-a-copy\n",
      "  self[k1] = value[k2]\n"
     ]
    }
   ],
   "source": [
    "# 치우침 제거\n",
    "Train_X[biased_variables] = Train_X[biased_variables] - Train_X[biased_variables].min() + 1\n",
    "Train_X[biased_variables] = np.log10(Train_X[biased_variables])"
   ]
  },
  {
   "cell_type": "code",
   "execution_count": 10,
   "metadata": {},
   "outputs": [
    {
     "name": "stdout",
     "output_type": "stream",
     "text": [
      "0.8666666666666666\n"
     ]
    },
    {
     "name": "stderr",
     "output_type": "stream",
     "text": [
      "C:\\Users\\GilseungAhn\\AppData\\Roaming\\Python\\Python36\\site-packages\\pandas\\core\\frame.py:2963: SettingWithCopyWarning: \n",
      "A value is trying to be set on a copy of a slice from a DataFrame.\n",
      "Try using .loc[row_indexer,col_indexer] = value instead\n",
      "\n",
      "See the caveats in the documentation: https://pandas.pydata.org/pandas-docs/stable/user_guide/indexing.html#returning-a-view-versus-a-copy\n",
      "  self[k1] = value[k2]\n"
     ]
    }
   ],
   "source": [
    "# 치우침 제거 후 모델 평가\n",
    "model = MLP(random_state = 153, max_iter = 1000).fit(Train_X, Train_Y)\n",
    "\n",
    "# 테스트도 데이터도 같은 방법으로 전처리를 수행\n",
    "Test_X[biased_variables] = Test_X[biased_variables] - Test_X[biased_variables].min() + 1\n",
    "Test_X[biased_variables] = Test_X[biased_variables].apply(np.log)\n",
    "\n",
    "pred_Y = model.predict(Test_X)\n",
    "score = f1_score(Test_Y, pred_Y)\n",
    "print(score)"
   ]
  }
 ],
 "metadata": {
  "kernelspec": {
   "display_name": "Python 3",
   "language": "python",
   "name": "python3"
  },
  "language_info": {
   "codemirror_mode": {
    "name": "ipython",
    "version": 3
   },
   "file_extension": ".py",
   "mimetype": "text/x-python",
   "name": "python",
   "nbconvert_exporter": "python",
   "pygments_lexer": "ipython3",
   "version": "3.6.4"
  }
 },
 "nbformat": 4,
 "nbformat_minor": 2
}
