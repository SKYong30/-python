{
 "cells": [
  {
   "cell_type": "markdown",
   "metadata": {},
   "source": [
    "#### 단순한 케이스: 모든 특징의 타입이 같은 경우"
   ]
  },
  {
   "cell_type": "code",
   "execution_count": 1,
   "metadata": {},
   "outputs": [],
   "source": [
    "import pandas as pd\n",
    "import os\n",
    "\n",
    "os.chdir(r\"D:\\강의 자료\\2008_온라인 강의 머신러닝 성능 향상을 위한 데이터 탐색과 전처리 심화\\데이터\\실습 데이터\")"
   ]
  },
  {
   "cell_type": "code",
   "execution_count": 2,
   "metadata": {},
   "outputs": [],
   "source": [
    "df = pd.read_csv(\"cleveland.csv\")"
   ]
  },
  {
   "cell_type": "code",
   "execution_count": 3,
   "metadata": {},
   "outputs": [],
   "source": [
    "# 특징과 라벨 분리\n",
    "X = df.drop('Output', axis = 1)\n",
    "Y = df['Output']"
   ]
  },
  {
   "cell_type": "code",
   "execution_count": 4,
   "metadata": {},
   "outputs": [],
   "source": [
    "# 학습 데이터와 평가 데이터로 분리\n",
    "from sklearn.model_selection import train_test_split\n",
    "Train_X, Test_X, Train_Y, Test_Y = train_test_split(X, Y)"
   ]
  },
  {
   "cell_type": "code",
   "execution_count": 5,
   "metadata": {},
   "outputs": [
    {
     "data": {
      "text/plain": [
       "Age         0\n",
       "Sex         0\n",
       "Cp          0\n",
       "Trestbps    0\n",
       "Chol        0\n",
       "Fbs         0\n",
       "Restecg     0\n",
       "Thalach     0\n",
       "Exang       0\n",
       "Oldpeak     0\n",
       "Slope       0\n",
       "Ca          2\n",
       "Thal        1\n",
       "dtype: int64"
      ]
     },
     "execution_count": 5,
     "metadata": {},
     "output_type": "execute_result"
    }
   ],
   "source": [
    "# 결측치 확인\n",
    "Train_X.isnull().sum()\n",
    "# 결측치가 많지 않음\n",
    "# 지워도 무방한 수치이지만, 새로 들어온 데이터에 결측이 있을 수도 있다는 도메인 지식이 있다고 가정"
   ]
  },
  {
   "cell_type": "code",
   "execution_count": 6,
   "metadata": {},
   "outputs": [
    {
     "data": {
      "text/plain": [
       "Age         0.188737\n",
       "Sex         0.128624\n",
       "Cp          0.082620\n",
       "Trestbps    0.140691\n",
       "Chol        0.130102\n",
       "Fbs         0.114038\n",
       "Restecg     0.155741\n",
       "Thalach    -0.080396\n",
       "Exang       0.171009\n",
       "Oldpeak     0.221944\n",
       "Slope       0.186604\n",
       "Ca          0.144485\n",
       "Thal        0.198240\n",
       "dtype: float64"
      ]
     },
     "execution_count": 6,
     "metadata": {},
     "output_type": "execute_result"
    }
   ],
   "source": [
    "# 평균 상관 계수 확인 (주의: 모든 변수가 연속형이므로 가능한 접근)\n",
    "Train_X.corr().sum() / (len(Train_X.columns) - 1)\n",
    "\n",
    "# 수치가 높지 않다고 판단 => 특징 간 관계가 크지 않음 => 대표값 대체 활용 가능 판단"
   ]
  },
  {
   "cell_type": "code",
   "execution_count": 7,
   "metadata": {},
   "outputs": [],
   "source": [
    "# 대표값을 활용한 결측치 대체\n",
    "from sklearn.impute import SimpleImputer\n",
    "\n",
    "# SimpleImputer 인스턴스화\n",
    "SI = SimpleImputer(strategy = 'mean')\n",
    "\n",
    "# 학습\n",
    "SI.fit(Train_X)\n",
    "\n",
    "# sklearn instance의 출력은 ndarray이므로 다시 DataFrame으로 바꿔줌\n",
    "Train_X = pd.DataFrame(SI.transform(Train_X), columns = Train_X.columns)\n",
    "Test_X = pd.DataFrame(SI.transform(Test_X), columns = Test_X.columns)"
   ]
  },
  {
   "cell_type": "code",
   "execution_count": 8,
   "metadata": {},
   "outputs": [
    {
     "data": {
      "text/plain": [
       "Age         0\n",
       "Sex         0\n",
       "Cp          0\n",
       "Trestbps    0\n",
       "Chol        0\n",
       "Fbs         0\n",
       "Restecg     0\n",
       "Thalach     0\n",
       "Exang       0\n",
       "Oldpeak     0\n",
       "Slope       0\n",
       "Ca          0\n",
       "Thal        0\n",
       "dtype: int64"
      ]
     },
     "execution_count": 8,
     "metadata": {},
     "output_type": "execute_result"
    }
   ],
   "source": [
    "Train_X.isnull().sum()"
   ]
  },
  {
   "cell_type": "markdown",
   "metadata": {},
   "source": [
    "#### 복잡한 케이스: 다른 타입의 특징이 있는 경우"
   ]
  },
  {
   "cell_type": "code",
   "execution_count": 9,
   "metadata": {},
   "outputs": [],
   "source": [
    "df = pd.read_csv(\"saheart.csv\")"
   ]
  },
  {
   "cell_type": "code",
   "execution_count": 10,
   "metadata": {
    "scrolled": true
   },
   "outputs": [],
   "source": [
    "# 특징과 라벨 분리\n",
    "X = df.drop('Chd', axis = 1)\n",
    "Y = df['Chd']"
   ]
  },
  {
   "cell_type": "code",
   "execution_count": 11,
   "metadata": {},
   "outputs": [],
   "source": [
    "# 학습 데이터와 평가 데이터로 분리\n",
    "from sklearn.model_selection import train_test_split\n",
    "Train_X, Test_X, Train_Y, Test_Y = train_test_split(X, Y)"
   ]
  },
  {
   "cell_type": "code",
   "execution_count": 12,
   "metadata": {},
   "outputs": [
    {
     "data": {
      "text/plain": [
       "Sbp          0\n",
       "Tobacco      0\n",
       "Ldl          0\n",
       "Adiposity    0\n",
       "Typea        0\n",
       "Obesity      8\n",
       "Alcohol      5\n",
       "Age          0\n",
       "Famhist      5\n",
       "dtype: int64"
      ]
     },
     "execution_count": 12,
     "metadata": {},
     "output_type": "execute_result"
    }
   ],
   "source": [
    "# 결측치 확인\n",
    "Train_X.isnull().sum()\n",
    "# 결측치가 많지 않음\n",
    "# 지워도 무방한 수치이지만, 새로 들어온 데이터에 결측이 있을 수도 있다는 도메인 지식이 있다고 가정"
   ]
  },
  {
   "cell_type": "code",
   "execution_count": 13,
   "metadata": {},
   "outputs": [
    {
     "data": {
      "text/plain": [
       "Sbp          0.291340\n",
       "Tobacco      0.207288\n",
       "Ldl          0.308865\n",
       "Adiposity    0.439088\n",
       "Typea        0.105319\n",
       "Obesity      0.380544\n",
       "Alcohol      0.213968\n",
       "Age          0.382141\n",
       "Famhist      0.258030\n",
       "dtype: float64"
      ]
     },
     "execution_count": 13,
     "metadata": {},
     "output_type": "execute_result"
    }
   ],
   "source": [
    "# 평균 상관 계수 확인 (주의: 모든 변수가 연속형이므로 가능한 접근)\n",
    "Train_X.corr().sum() / (len(Train_X.columns) - 1)\n",
    "\n",
    "# 수치가 높지 않다고 판단 => 특징 간 관계가 크지 않음 => 대표값 대체 활용 가능 판단"
   ]
  },
  {
   "cell_type": "code",
   "execution_count": 14,
   "metadata": {},
   "outputs": [],
   "source": [
    "# Famhist: 범주형 변수\n",
    "# 그 외 변수: 연속형 변수\n",
    "\n",
    "# 대표값을 평균을 사용할지, 최빈값을 사용할지 결정이 어려움 => 둘 다 사용해야 함\n",
    "# 따라서 데이터를 분할해야 함\n",
    "\n",
    "Train_X_cate = Train_X[['Famhist']]\n",
    "Train_X_cont = Train_X.drop('Famhist', axis = 1)\n",
    "\n",
    "Test_X_cate = Test_X[['Famhist']]\n",
    "Test_X_cont = Test_X.drop('Famhist', axis = 1)"
   ]
  },
  {
   "cell_type": "code",
   "execution_count": 15,
   "metadata": {},
   "outputs": [],
   "source": [
    "# 대표값을 활용한 결측치 대체\n",
    "from sklearn.impute import SimpleImputer\n",
    "\n",
    "# SimpleImputer 인스턴스화\n",
    "SI_mode = SimpleImputer(strategy = 'most_frequent')\n",
    "SI_mean = SimpleImputer(strategy = 'mean')\n",
    "\n",
    "# 학습\n",
    "SI_mode.fit(Train_X_cate)\n",
    "SI_mean.fit(Train_X_cont)\n",
    "\n",
    "# sklearn instance의 출력은 ndarray이므로 다시 DataFrame으로 바꿔줌\n",
    "Train_X_cate = pd.DataFrame(SI_mode.transform(Train_X_cate),\n",
    "                            columns = Train_X_cate.columns)\n",
    "\n",
    "Test_X_cate = pd.DataFrame(SI_mode.transform(Test_X_cate),\n",
    "                           columns = Test_X_cate.columns)\n",
    "\n",
    "Train_X_cont = pd.DataFrame(SI_mean.transform(Train_X_cont),\n",
    "                            columns = Train_X_cont.columns)\n",
    "\n",
    "Test_X_cont = pd.DataFrame(SI_mean.transform(Test_X_cont),\n",
    "                           columns = Test_X_cont.columns)\n",
    "\n",
    "# 다시 두 데이터를 이어붙여야 함\n",
    "Train_X = pd.concat([Train_X_cate, Train_X_cont], axis = 1)\n",
    "Test_X = pd.concat([Test_X_cate, Test_X_cont], axis = 1)"
   ]
  },
  {
   "cell_type": "code",
   "execution_count": 16,
   "metadata": {},
   "outputs": [
    {
     "data": {
      "text/plain": [
       "Famhist      0\n",
       "Sbp          0\n",
       "Tobacco      0\n",
       "Ldl          0\n",
       "Adiposity    0\n",
       "Typea        0\n",
       "Obesity      0\n",
       "Alcohol      0\n",
       "Age          0\n",
       "dtype: int64"
      ]
     },
     "execution_count": 16,
     "metadata": {},
     "output_type": "execute_result"
    }
   ],
   "source": [
    "Train_X.isnull().sum()"
   ]
  },
  {
   "cell_type": "code",
   "execution_count": 17,
   "metadata": {},
   "outputs": [],
   "source": [
    "# Tip. 이진형 변수와 연속형 변수만 포함된 경우에는 SI_mean만 사용하여 결측치를 평균으로 대체한 뒤에, \n",
    "# 이진형 변수에 대해서만 round 처리를 하면 하나의 인스턴스만 활용할 수 있음"
   ]
  }
 ],
 "metadata": {
  "kernelspec": {
   "display_name": "Python 3",
   "language": "python",
   "name": "python3"
  },
  "language_info": {
   "codemirror_mode": {
    "name": "ipython",
    "version": 3
   },
   "file_extension": ".py",
   "mimetype": "text/x-python",
   "name": "python",
   "nbconvert_exporter": "python",
   "pygments_lexer": "ipython3",
   "version": "3.6.4"
  }
 },
 "nbformat": 4,
 "nbformat_minor": 2
}
