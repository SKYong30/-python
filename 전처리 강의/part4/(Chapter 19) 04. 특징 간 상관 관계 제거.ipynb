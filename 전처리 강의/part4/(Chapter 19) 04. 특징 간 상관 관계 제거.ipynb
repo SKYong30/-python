{
 "cells": [
  {
   "cell_type": "code",
   "execution_count": 1,
   "metadata": {},
   "outputs": [],
   "source": [
    "import pandas as pd\n",
    "import os\n",
    "\n",
    "os.chdir(r\"C:\\Users\\Gilseung\\Google 드라이브\\작업\\온라인 강의 머신러닝 성능 향상을 위한 데이터 탐색과 전처리 심화\\데이터\\실습 데이터 - #3 ~ #5\")"
   ]
  },
  {
   "cell_type": "code",
   "execution_count": 2,
   "metadata": {},
   "outputs": [],
   "source": [
    "df = pd.read_csv(\"abalone.csv\")"
   ]
  },
  {
   "cell_type": "code",
   "execution_count": 3,
   "metadata": {},
   "outputs": [],
   "source": [
    "# 특징과 라벨 분리\n",
    "X = df.drop(['Age'], axis = 1)\n",
    "Y = df['Age']"
   ]
  },
  {
   "cell_type": "code",
   "execution_count": 4,
   "metadata": {},
   "outputs": [],
   "source": [
    "# 학습 데이터와 평가 데이터 분리\n",
    "from sklearn.model_selection import train_test_split\n",
    "Train_X, Test_X, Train_Y, Test_Y = train_test_split(X, Y)"
   ]
  },
  {
   "cell_type": "code",
   "execution_count": 5,
   "metadata": {},
   "outputs": [
    {
     "data": {
      "text/html": [
       "<div>\n",
       "<style scoped>\n",
       "    .dataframe tbody tr th:only-of-type {\n",
       "        vertical-align: middle;\n",
       "    }\n",
       "\n",
       "    .dataframe tbody tr th {\n",
       "        vertical-align: top;\n",
       "    }\n",
       "\n",
       "    .dataframe thead th {\n",
       "        text-align: right;\n",
       "    }\n",
       "</style>\n",
       "<table border=\"1\" class=\"dataframe\">\n",
       "  <thead>\n",
       "    <tr style=\"text-align: right;\">\n",
       "      <th></th>\n",
       "      <th>Length</th>\n",
       "      <th>Diameter</th>\n",
       "      <th>Height</th>\n",
       "      <th>Wholeweight</th>\n",
       "      <th>Shuckedweight</th>\n",
       "      <th>Visceraweight</th>\n",
       "      <th>Shellweight</th>\n",
       "    </tr>\n",
       "  </thead>\n",
       "  <tbody>\n",
       "    <tr>\n",
       "      <th>Length</th>\n",
       "      <td>1.000000</td>\n",
       "      <td>0.986601</td>\n",
       "      <td>0.805464</td>\n",
       "      <td>0.925799</td>\n",
       "      <td>0.896402</td>\n",
       "      <td>0.903029</td>\n",
       "      <td>0.899919</td>\n",
       "    </tr>\n",
       "    <tr>\n",
       "      <th>Diameter</th>\n",
       "      <td>0.986601</td>\n",
       "      <td>1.000000</td>\n",
       "      <td>0.810857</td>\n",
       "      <td>0.926071</td>\n",
       "      <td>0.892236</td>\n",
       "      <td>0.900225</td>\n",
       "      <td>0.906323</td>\n",
       "    </tr>\n",
       "    <tr>\n",
       "      <th>Height</th>\n",
       "      <td>0.805464</td>\n",
       "      <td>0.810857</td>\n",
       "      <td>1.000000</td>\n",
       "      <td>0.799203</td>\n",
       "      <td>0.754102</td>\n",
       "      <td>0.778551</td>\n",
       "      <td>0.797427</td>\n",
       "    </tr>\n",
       "    <tr>\n",
       "      <th>Wholeweight</th>\n",
       "      <td>0.925799</td>\n",
       "      <td>0.926071</td>\n",
       "      <td>0.799203</td>\n",
       "      <td>1.000000</td>\n",
       "      <td>0.968445</td>\n",
       "      <td>0.965756</td>\n",
       "      <td>0.955264</td>\n",
       "    </tr>\n",
       "    <tr>\n",
       "      <th>Shuckedweight</th>\n",
       "      <td>0.896402</td>\n",
       "      <td>0.892236</td>\n",
       "      <td>0.754102</td>\n",
       "      <td>0.968445</td>\n",
       "      <td>1.000000</td>\n",
       "      <td>0.930622</td>\n",
       "      <td>0.881972</td>\n",
       "    </tr>\n",
       "    <tr>\n",
       "      <th>Visceraweight</th>\n",
       "      <td>0.903029</td>\n",
       "      <td>0.900225</td>\n",
       "      <td>0.778551</td>\n",
       "      <td>0.965756</td>\n",
       "      <td>0.930622</td>\n",
       "      <td>1.000000</td>\n",
       "      <td>0.907741</td>\n",
       "    </tr>\n",
       "    <tr>\n",
       "      <th>Shellweight</th>\n",
       "      <td>0.899919</td>\n",
       "      <td>0.906323</td>\n",
       "      <td>0.797427</td>\n",
       "      <td>0.955264</td>\n",
       "      <td>0.881972</td>\n",
       "      <td>0.907741</td>\n",
       "      <td>1.000000</td>\n",
       "    </tr>\n",
       "  </tbody>\n",
       "</table>\n",
       "</div>"
      ],
      "text/plain": [
       "                 Length  Diameter    Height  Wholeweight  Shuckedweight  \\\n",
       "Length         1.000000  0.986601  0.805464     0.925799       0.896402   \n",
       "Diameter       0.986601  1.000000  0.810857     0.926071       0.892236   \n",
       "Height         0.805464  0.810857  1.000000     0.799203       0.754102   \n",
       "Wholeweight    0.925799  0.926071  0.799203     1.000000       0.968445   \n",
       "Shuckedweight  0.896402  0.892236  0.754102     0.968445       1.000000   \n",
       "Visceraweight  0.903029  0.900225  0.778551     0.965756       0.930622   \n",
       "Shellweight    0.899919  0.906323  0.797427     0.955264       0.881972   \n",
       "\n",
       "               Visceraweight  Shellweight  \n",
       "Length              0.903029     0.899919  \n",
       "Diameter            0.900225     0.906323  \n",
       "Height              0.778551     0.797427  \n",
       "Wholeweight         0.965756     0.955264  \n",
       "Shuckedweight       0.930622     0.881972  \n",
       "Visceraweight       1.000000     0.907741  \n",
       "Shellweight         0.907741     1.000000  "
      ]
     },
     "execution_count": 5,
     "metadata": {},
     "output_type": "execute_result"
    }
   ],
   "source": [
    "Train_X.corr() # 특징 간 상관 행렬 출력 => 얼핏봐도 특징 간 선형 관계가 존재"
   ]
  },
  {
   "cell_type": "markdown",
   "metadata": {},
   "source": [
    "#### VIF 기준 특징 선택"
   ]
  },
  {
   "cell_type": "code",
   "execution_count": 6,
   "metadata": {},
   "outputs": [],
   "source": [
    "# VIF 계산\n",
    "from sklearn.linear_model import LinearRegression as LR\n",
    "VIF_dict = dict()\n",
    "for col in Train_X.columns:\n",
    "    model = LR().fit(Train_X.drop([col], axis = 1), Train_X[col])\n",
    "    r2 = model.score(Train_X.drop([col], axis = 1), Train_X[col]) # LinearRegression의 score가 r2 점수임\n",
    "    VIF = 1 / (1 - r2)\n",
    "    VIF_dict[col] = VIF"
   ]
  },
  {
   "cell_type": "code",
   "execution_count": 7,
   "metadata": {},
   "outputs": [
    {
     "data": {
      "text/plain": [
       "{'Diameter': 40.76004936612344,\n",
       " 'Height': 3.144821205934488,\n",
       " 'Length': 39.877531276281,\n",
       " 'Shellweight': 20.25373588264337,\n",
       " 'Shuckedweight': 26.41132170336298,\n",
       " 'Visceraweight': 16.726810776990856,\n",
       " 'Wholeweight': 101.73747913179328}"
      ]
     },
     "execution_count": 7,
     "metadata": {},
     "output_type": "execute_result"
    }
   ],
   "source": [
    "VIF_dict # Height를 제외하곤 VIF가 모두 높으므로, 이러한 상황에서는 사실 PCA를 사용하는 것이 바람직"
   ]
  },
  {
   "cell_type": "code",
   "execution_count": 8,
   "metadata": {},
   "outputs": [],
   "source": [
    "from sklearn.neural_network import MLPRegressor as MLP\n",
    "from sklearn.metrics import mean_absolute_error as MAE"
   ]
  },
  {
   "cell_type": "code",
   "execution_count": 9,
   "metadata": {},
   "outputs": [
    {
     "name": "stdout",
     "output_type": "stream",
     "text": [
      "1.5276345561460773\n"
     ]
    }
   ],
   "source": [
    "# 전체 특징을 모두 사용하였을 때\n",
    "model = MLP(random_state = 2313, max_iter = 500)\n",
    "model.fit(Train_X, Train_Y)\n",
    "pred_Y = model.predict(Test_X)\n",
    "score = MAE(Test_Y, pred_Y)\n",
    "print(score)"
   ]
  },
  {
   "cell_type": "code",
   "execution_count": 10,
   "metadata": {
    "scrolled": true
   },
   "outputs": [
    {
     "name": "stdout",
     "output_type": "stream",
     "text": [
      "1.5076713980631804\n"
     ]
    }
   ],
   "source": [
    "# VIF 점수가 30점 미만인 특징만 사용하였을 때 \n",
    "selected_features = [key for key, val in VIF_dict.items() if val < 30] \n",
    "model = MLP(random_state = 2313, max_iter = 500)\n",
    "model.fit(Train_X[selected_features], Train_Y)\n",
    "pred_Y = model.predict(Test_X[selected_features])\n",
    "score = MAE(Test_Y, pred_Y)\n",
    "print(score)"
   ]
  },
  {
   "cell_type": "markdown",
   "metadata": {},
   "source": [
    "#### PCA 사용"
   ]
  },
  {
   "cell_type": "code",
   "execution_count": 12,
   "metadata": {},
   "outputs": [
    {
     "name": "stdout",
     "output_type": "stream",
     "text": [
      "(3132, 3)\n"
     ]
    }
   ],
   "source": [
    "from sklearn.decomposition import PCA\n",
    "PCA_model = PCA(n_components = 3).fit(Train_X)\n",
    "\n",
    "Train_Z = PCA_model.transform(Train_X)\n",
    "Test_Z = PCA_model.transform(Test_X)\n",
    "\n",
    "print(Train_Z.shape)"
   ]
  },
  {
   "cell_type": "code",
   "execution_count": 13,
   "metadata": {},
   "outputs": [
    {
     "name": "stdout",
     "output_type": "stream",
     "text": [
      "1.4484133888721893\n"
     ]
    }
   ],
   "source": [
    "model = MLP(random_state = 2313, max_iter = 500)\n",
    "model.fit(Train_Z, Train_Y)\n",
    "pred_Y = model.predict(Test_Z)\n",
    "score = MAE(Test_Y, pred_Y)\n",
    "print(score)"
   ]
  }
 ],
 "metadata": {
  "kernelspec": {
   "display_name": "Python 3",
   "language": "python",
   "name": "python3"
  },
  "language_info": {
   "codemirror_mode": {
    "name": "ipython",
    "version": 3
   },
   "file_extension": ".py",
   "mimetype": "text/x-python",
   "name": "python",
   "nbconvert_exporter": "python",
   "pygments_lexer": "ipython3",
   "version": "3.6.4"
  }
 },
 "nbformat": 4,
 "nbformat_minor": 2
}
