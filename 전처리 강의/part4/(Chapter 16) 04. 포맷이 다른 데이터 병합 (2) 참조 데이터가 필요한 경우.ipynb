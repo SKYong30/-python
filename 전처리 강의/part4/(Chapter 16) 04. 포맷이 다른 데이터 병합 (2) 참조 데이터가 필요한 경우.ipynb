{
 "cells": [
  {
   "cell_type": "code",
   "execution_count": 1,
   "metadata": {},
   "outputs": [],
   "source": [
    "# 모듈 불러오기 및 데이터 경로 설정\n",
    "import os\n",
    "import pandas as pd\n",
    "os.chdir(r\"D:\\강의 자료\\2008_온라인 강의 머신러닝 성능 향상을 위한 데이터 탐색과 전처리 심화\\데이터\\실습 데이터\")"
   ]
  },
  {
   "cell_type": "code",
   "execution_count": 2,
   "metadata": {},
   "outputs": [],
   "source": [
    "# 데이터 불러오기\n",
    "ref_df = pd.read_csv(\"시승격정보.csv\", encoding = \"cp949\")\n",
    "df1 = pd.read_excel(\"인구수데이터.xlsx\", sheet_name = \"202006\")\n",
    "df2 = pd.read_excel(\"인구수데이터.xlsx\", sheet_name = \"201108\")"
   ]
  },
  {
   "cell_type": "code",
   "execution_count": 3,
   "metadata": {},
   "outputs": [],
   "source": [
    "# ref_df를 사전으로 변환\n",
    "ref_dict = ref_df.set_index('승격전')['승격후'].to_dict() # 인덱스 설정 및 시리즈로 변환"
   ]
  },
  {
   "cell_type": "code",
   "execution_count": 4,
   "metadata": {},
   "outputs": [],
   "source": [
    "# ref_dict을 이용하여 키 변수 값 변환\n",
    "df2['행정구역'] = df2['행정구역'].replace(ref_dict)"
   ]
  },
  {
   "cell_type": "code",
   "execution_count": 5,
   "metadata": {},
   "outputs": [],
   "source": [
    "# df1과 df2에 있는 변수명이 모두 같으므로, 변수명을 수정해야 함\n",
    "df1.set_index(\"행정구역\", inplace = True) # 행정 구역 변수명은 바꾸지 않기 위해, 인덱스로 설정\n",
    "df2.set_index(\"행정구역\", inplace = True) # 행정 구역 변수명은 바꾸지 않기 위해, 인덱스로 설정\n",
    "\n",
    "df1 = df1.add_prefix(\"202006_\")\n",
    "df2 = df2.add_prefix(\"201108_\")"
   ]
  },
  {
   "cell_type": "code",
   "execution_count": 6,
   "metadata": {},
   "outputs": [],
   "source": [
    "merged_df = pd.merge(df1, df2, left_index = True, right_index = True)"
   ]
  },
  {
   "cell_type": "code",
   "execution_count": 7,
   "metadata": {},
   "outputs": [
    {
     "data": {
      "text/html": [
       "<div>\n",
       "<style scoped>\n",
       "    .dataframe tbody tr th:only-of-type {\n",
       "        vertical-align: middle;\n",
       "    }\n",
       "\n",
       "    .dataframe tbody tr th {\n",
       "        vertical-align: top;\n",
       "    }\n",
       "\n",
       "    .dataframe thead th {\n",
       "        text-align: right;\n",
       "    }\n",
       "</style>\n",
       "<table border=\"1\" class=\"dataframe\">\n",
       "  <thead>\n",
       "    <tr style=\"text-align: right;\">\n",
       "      <th></th>\n",
       "      <th>202006_총인구수</th>\n",
       "      <th>202006_남자인구수</th>\n",
       "      <th>202006_여자인구수</th>\n",
       "      <th>201108_총인구수</th>\n",
       "      <th>201108_남자인구수</th>\n",
       "      <th>201108_여자인구수</th>\n",
       "    </tr>\n",
       "    <tr>\n",
       "      <th>행정구역</th>\n",
       "      <th></th>\n",
       "      <th></th>\n",
       "      <th></th>\n",
       "      <th></th>\n",
       "      <th></th>\n",
       "      <th></th>\n",
       "    </tr>\n",
       "  </thead>\n",
       "  <tbody>\n",
       "    <tr>\n",
       "      <th>여주시</th>\n",
       "      <td>111341</td>\n",
       "      <td>56582</td>\n",
       "      <td>54759</td>\n",
       "      <td>109019</td>\n",
       "      <td>55122</td>\n",
       "      <td>53897</td>\n",
       "    </tr>\n",
       "    <tr>\n",
       "      <th>당진시</th>\n",
       "      <td>166084</td>\n",
       "      <td>88015</td>\n",
       "      <td>78069</td>\n",
       "      <td>148175</td>\n",
       "      <td>76555</td>\n",
       "      <td>71620</td>\n",
       "    </tr>\n",
       "    <tr>\n",
       "      <th>아산시</th>\n",
       "      <td>313054</td>\n",
       "      <td>162398</td>\n",
       "      <td>150656</td>\n",
       "      <td>271356</td>\n",
       "      <td>138150</td>\n",
       "      <td>133206</td>\n",
       "    </tr>\n",
       "  </tbody>\n",
       "</table>\n",
       "</div>"
      ],
      "text/plain": [
       "      202006_총인구수  202006_남자인구수  202006_여자인구수  201108_총인구수  201108_남자인구수  \\\n",
       "행정구역                                                                       \n",
       "여주시        111341         56582         54759       109019         55122   \n",
       "당진시        166084         88015         78069       148175         76555   \n",
       "아산시        313054        162398        150656       271356        138150   \n",
       "\n",
       "      201108_여자인구수  \n",
       "행정구역                \n",
       "여주시          53897  \n",
       "당진시          71620  \n",
       "아산시         133206  "
      ]
     },
     "execution_count": 7,
     "metadata": {},
     "output_type": "execute_result"
    }
   ],
   "source": [
    "merged_df.head()"
   ]
  }
 ],
 "metadata": {
  "kernelspec": {
   "display_name": "Python 3",
   "language": "python",
   "name": "python3"
  },
  "language_info": {
   "codemirror_mode": {
    "name": "ipython",
    "version": 3
   },
   "file_extension": ".py",
   "mimetype": "text/x-python",
   "name": "python",
   "nbconvert_exporter": "python",
   "pygments_lexer": "ipython3",
   "version": "3.6.4"
  }
 },
 "nbformat": 4,
 "nbformat_minor": 2
}
